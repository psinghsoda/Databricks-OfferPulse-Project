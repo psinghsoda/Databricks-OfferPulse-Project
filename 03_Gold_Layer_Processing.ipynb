{
 "cells": [
  {
   "cell_type": "code",
   "execution_count": 0,
   "metadata": {
    "application/vnd.databricks.v1+cell": {
     "cellMetadata": {
      "byteLimit": 2048000,
      "rowLimit": 10000
     },
     "inputWidgets": {},
     "nuid": "b3f94331-3020-4652-838e-7f076028a95f",
     "showTitle": false,
     "tableResultSettingsMap": {},
     "title": ""
    }
   },
   "outputs": [],
   "source": [
    "from pyspark.sql import SparkSession\n",
    "from pyspark.sql.functions import col, when\n",
    "\n",
    "# Initialize Spark session\n",
    "spark = SparkSession.builder.appName(\"Gold Layer Processing\").getOrCreate()\n",
    "\n",
    "# Snowflake connection options\n",
    "sfOptions = {\n",
    "    \"sfURL\": \"https://wsxmajg-ms55786.snowflakecomputing.com\",\n",
    "    \"sfUser\": \"KAICY3108\",\n",
    "    \"sfPassword\": \"Kaicy@11122021\",\n",
    "    \"sfDatabase\": \"AARAMBH\",\n",
    "    \"sfSchema\": \"SILVER\",\n",
    "    \"sfWarehouse\": \"COMPUTE_WH\"\n",
    "}\n",
    "\n",
    "# Snowflake read function\n",
    "def read_from_snowflake(table_name):\n",
    "    return spark.read \\\n",
    "        .format(\"snowflake\") \\\n",
    "        .options(**sfOptions) \\\n",
    "        .option(\"dbtable\", table_name) \\\n",
    "        .load()\n",
    "\n",
    "# Read data from the Silver layer\n",
    "silver_df = read_from_snowflake(\"SILVER.SILVER_CLEANED_DATA\")\n",
    "\n",
    "# Additional Data Processing (Aggregation & Business Logic)\n",
    "gold_df = silver_df.withColumn(\"customer_risk_category\", \n",
    "                when((col(\"credit_score\") >= 700) & (col(\"income_category\") == \"High\"), \"Low Risk\")\n",
    "                .when((col(\"credit_score\") >= 500) & (col(\"income_category\") != \"Low\"), \"Medium Risk\")\n",
    "                .otherwise(\"High Risk\"))\n",
    "\n",
    "# Selecting final transformed columns\n",
    "gold_df = gold_df.select(\n",
    "    \"cust_id\", \"name\", \"age\", \"credit_score\", \"income\", \"income_category\", \"offer_type\", \"offer_status\", \"customer_risk_category\"\n",
    ")\n",
    "\n",
    "# Display final DataFrame\n",
    "gold_df.show()\n",
    "\n",
    "# Snowflake write function\n",
    "def write_to_snowflake(df, table_name):\n",
    "    df.write \\\n",
    "        .format(\"snowflake\") \\\n",
    "        .options(**sfOptions) \\\n",
    "        .option(\"dbtable\", table_name) \\\n",
    "        .mode(\"overwrite\") \\\n",
    "        .save()\n",
    "\n",
    "# Switch schema to GOLD for loading final table\n",
    "sfOptions[\"sfSchema\"] = \"GOLD\"\n",
    "\n",
    "# Load final processed data into Gold layer\n",
    "write_to_snowflake(gold_df, \"GOLD.AARAMBH_TABLE\")\n",
    "\n",
    "# Read back from Gold layer for verification\n",
    "gold_verified_df = read_from_snowflake(\"GOLD.AARAMBH_TABLE\")\n",
    "gold_verified_df.show()\n"
   ]
  }
 ],
 "metadata": {
  "application/vnd.databricks.v1+notebook": {
   "computePreferences": null,
   "dashboards": [],
   "environmentMetadata": {
    "base_environment": "",
    "environment_version": "2"
   },
   "language": "python",
   "notebookMetadata": {
    "pythonIndentUnit": 4
   },
   "notebookName": "03_Gold_Layer_Processing",
   "widgets": {}
  },
  "language_info": {
   "name": "python"
  }
 },
 "nbformat": 4,
 "nbformat_minor": 0
}
