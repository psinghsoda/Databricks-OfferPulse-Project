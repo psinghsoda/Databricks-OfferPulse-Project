{
 "cells": [
  {
   "cell_type": "code",
   "execution_count": 0,
   "metadata": {
    "application/vnd.databricks.v1+cell": {
     "cellMetadata": {
      "byteLimit": 2048000,
      "rowLimit": 10000
     },
     "inputWidgets": {},
     "nuid": "1436e0ba-ab11-4942-a2b9-bb4e37300b4f",
     "showTitle": false,
     "tableResultSettingsMap": {},
     "title": ""
    }
   },
   "outputs": [],
   "source": [
    "%python\n",
    "from pyspark.sql import SparkSession\n",
    "from pyspark.sql.functions import when, col\n",
    "\n",
    "# Initialize Spark session\n",
    "spark = SparkSession.builder.appName(\"Silver Layer Processing\").getOrCreate()\n",
    "\n",
    "# Snowflake connection options\n",
    "sfOptions = {\n",
    "    \"sfURL\": \"https://wsxmajg-ms55786.snowflakecomputing.com\",\n",
    "    \"sfUser\": \"KAICY3108\",\n",
    "    \"sfPassword\": \"Kaicy@11122021\",\n",
    "    \"sfDatabase\": \"AARAMBH\",\n",
    "    \"sfSchema\": \"BRONZE\",\n",
    "    \"sfWarehouse\": \"COMPUTE_WH\"\n",
    "}\n",
    "\n",
    "# Snowflake read function\n",
    "def read_from_snowflake(table_name):\n",
    "    return spark.read \\\n",
    "        .format(\"snowflake\") \\\n",
    "        .options(**sfOptions) \\\n",
    "        .option(\"dbtable\", table_name) \\\n",
    "        .load()\n",
    "\n",
    "# Read Bronze tables\n",
    "demographic_df = read_from_snowflake(\"bronze.demographic\")\n",
    "credit_bureau_df = read_from_snowflake(\"bronze.credit_bureau\")\n",
    "offer_df = read_from_snowflake(\"bronze.offer\")\n",
    "\n",
    "# Data Cleaning\n",
    "demographic_df = demographic_df.dropDuplicates(['cust_id']).fillna({'age': -1, 'name': 'Unknown'})\n",
    "credit_bureau_df = credit_bureau_df.dropDuplicates(['cust_id']).fillna({'credit_score': -1, 'income': 0})\n",
    "offer_df = offer_df.dropDuplicates(['customer_id']).fillna({'offer_id': 'Unknown'})\n",
    "\n",
    "# Rename customer_id to cust_id in offer_df\n",
    "offer_df = offer_df.withColumnRenamed(\"customer_id\", \"cust_id\")\n",
    "\n",
    "# Join DataFrames\n",
    "final_df = demographic_df.join(credit_bureau_df, 'cust_id', 'inner') \\\n",
    "                         .join(offer_df, 'cust_id', 'inner') \\\n",
    "                         .select('cust_id', 'name', 'age', 'credit_score', 'income', 'offer_type', 'offer_status')\n",
    "\n",
    "# Add Calculated Columns\n",
    "final_df = final_df.withColumn(\"income_category\", when(final_df.income > 50000, \"High\")\n",
    "                                               .when(final_df.income > 20000, \"Medium\")\n",
    "                                               .otherwise(\"Low\"))\n",
    "\n",
    "# Display final DataFrame\n",
    "display(final_df)\n",
    "\n",
    "# Snowflake write function\n",
    "def write_to_snowflake(df, table_name):\n",
    "    df.write \\\n",
    "        .format(\"snowflake\") \\\n",
    "        .options(**sfOptions) \\\n",
    "        .option(\"dbtable\", table_name) \\\n",
    "        .mode(\"overwrite\") \\\n",
    "        .save()\n",
    "\n",
    "# Switch schema to SILVER for loading\n",
    "sfOptions[\"sfSchema\"] = \"SILVER\"\n",
    "\n",
    "# Load cleaned data into Bronze layer\n",
    "write_to_snowflake(final_df, \"silver.silver_cleaned_data\")\n",
    "\n",
    "# Read back from Silver layer for verification\n",
    "silver_df = read_from_snowflake(\"silver.silver_cleaned_data\")\n",
    "display(silver_df)"
   ]
  }
 ],
 "metadata": {
  "application/vnd.databricks.v1+notebook": {
   "computePreferences": null,
   "dashboards": [],
   "environmentMetadata": {
    "base_environment": "",
    "environment_version": "2"
   },
   "language": "python",
   "notebookMetadata": {
    "pythonIndentUnit": 4
   },
   "notebookName": "02_Data_Processing_Silver_Layer",
   "widgets": {}
  },
  "language_info": {
   "name": "python"
  }
 },
 "nbformat": 4,
 "nbformat_minor": 0
}
