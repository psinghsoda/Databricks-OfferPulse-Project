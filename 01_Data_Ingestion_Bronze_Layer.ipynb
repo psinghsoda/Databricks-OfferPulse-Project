{
 "cells": [
  {
   "cell_type": "code",
   "execution_count": 0,
   "metadata": {
    "application/vnd.databricks.v1+cell": {
     "cellMetadata": {
      "byteLimit": 2048000,
      "rowLimit": 10000
     },
     "inputWidgets": {},
     "nuid": "dc958923-c8dd-4a6e-9841-fba1cd28b197",
     "showTitle": false,
     "tableResultSettingsMap": {},
     "title": ""
    }
   },
   "outputs": [],
   "source": [
    "from pyspark.sql import SparkSession\n",
    "from pyspark.sql.types import StructType, StructField, StringType, IntegerType, DateType\n",
    "\n",
    "# Initialize Spark session\n",
    "spark = SparkSession.builder.appName(\"CustomerOffersPipeline\").getOrCreate()\n",
    "\n",
    "# Azure Storage Configuration - Directly in Code (Without Secrets)\n",
    "storage_account_name = \"storageaccountofferpulse\"\n",
    "storage_account_key = \"RLo88cac943ee86vcqHEOHDDUOobZ4hzN0ikBKXOOg/iV+IqvMTSaXpBrhoz2rVaQO+iSn63B692+AStEY4ppw==\"\n",
    "\n",
    "#storage_account_name = dbutils.secrets.get(scope=\"my_scope\", key=\"storageaccountname\")\n",
    "#storage_account_key = dbutils.secrets.get(scope=\"my_scope\", key=\"storageaccountkey\")\n",
    "\n",
    "spark.conf.set(f\"fs.azure.account.key.{storage_account_name}.dfs.core.windows.net\", storage_account_key)\n",
    "\n",
    "container_name = \"offerpulseraw\"\n",
    "input_path = f\"abfss://{container_name}@{storage_account_name}.dfs.core.windows.net\"\n",
    "\n",
    "# Set Spark Configuration for Azure Storage\n",
    "spark.conf.set(f\"fs.azure.account.key.{storage_account_name}.dfs.core.windows.net\", storage_account_key)\n",
    "\n",
    "# Define Schemas\n",
    "demographic_schema = StructType([\n",
    "    StructField(\"cust_id\", StringType(), True),\n",
    "    StructField(\"name\", StringType(), True),\n",
    "    StructField(\"age\", IntegerType(), True),\n",
    "    StructField(\"mobile_number\", StringType(), True),\n",
    "    StructField(\"pan_no\", StringType(), True),\n",
    "    StructField(\"passport_no\", StringType(), True)\n",
    "])\n",
    "\n",
    "credit_bureau_schema = StructType([\n",
    "    StructField(\"cust_id\", StringType(), True),\n",
    "    StructField(\"credit_score\", IntegerType(), True),\n",
    "    StructField(\"income\", IntegerType(), True)\n",
    "])\n",
    "\n",
    "offer_schema = StructType([\n",
    "    StructField(\"customer_id\", StringType(), True),\n",
    "    StructField(\"offer_id\", StringType(), True),\n",
    "    StructField(\"offer_type\", StringType(), True),\n",
    "    StructField(\"offer_status\", StringType(), True)\n",
    "])\n",
    "\n",
    "# Read Data from Azure Blob Storage\n",
    "demographic_df = spark.read.schema(demographic_schema).json(f\"{input_path}/Demographic_Data/*.json\", multiLine=True)\n",
    "credit_bureau_df = spark.read.schema(credit_bureau_schema).json(f\"{input_path}/CIBIL_Data/*.json\", multiLine=True)\n",
    "offer_df = spark.read.schema(offer_schema).json(f\"{input_path}/Offer_Data/*.json\", multiLine=True)\n",
    "\n",
    "# Show Sample DataFrames\n",
    "demographic_df.show()\n",
    "credit_bureau_df.show()\n",
    "offer_df.show()\n",
    "\n",
    "\n",
    "sfOptions = {\n",
    "    \"sfURL\": \"https://wsxmajg-ms55786.snowflakecomputing.com\",\n",
    "    \"sfUser\": \"KAICY3108\",\n",
    "    \"sfPassword\": \"Kaicy@11122021\",\n",
    "    \"sfDatabase\": \"AARAMBH\",\n",
    "    \"sfSchema\": \"BRONZE\",\n",
    "    \"sfWarehouse\": \"COMPUTE_WH\"\n",
    "}\n",
    "\n",
    "demographic_df.write.format(\"snowflake\").options(**sfOptions).option(\"dbtable\", \"DEMOGRAPHIC\").mode(\"overwrite\").save()\n",
    "credit_bureau_df.write.format(\"snowflake\").options(**sfOptions).option(\"dbtable\", \"CREDIT_BUREAU\").mode(\"overwrite\").save()\n",
    "offer_df.write.format(\"snowflake\").options(**sfOptions).option(\"dbtable\", \"OFFER\").mode(\"overwrite\").save()"
   ]
  }
 ],
 "metadata": {
  "application/vnd.databricks.v1+notebook": {
   "computePreferences": null,
   "dashboards": [],
   "environmentMetadata": {
    "base_environment": "",
    "environment_version": "2"
   },
   "language": "python",
   "notebookMetadata": {
    "pythonIndentUnit": 4
   },
   "notebookName": "01_Data_Ingestion_Bronze_Layer",
   "widgets": {}
  },
  "language_info": {
   "name": "python"
  }
 },
 "nbformat": 4,
 "nbformat_minor": 0
}
